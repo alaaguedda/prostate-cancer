{
  "nbformat": 4,
  "nbformat_minor": 0,
  "metadata": {
    "colab": {
      "provenance": [],
      "authorship_tag": "ABX9TyMprrAi6z0yYssolAWOnGXD",
      "include_colab_link": true
    },
    "kernelspec": {
      "name": "python3",
      "display_name": "Python 3"
    },
    "language_info": {
      "name": "python"
    }
  },
  "cells": [
    {
      "cell_type": "markdown",
      "metadata": {
        "id": "view-in-github",
        "colab_type": "text"
      },
      "source": [
        "<a href=\"https://colab.research.google.com/github/alaaguedda/prostate-cancer/blob/main/prostate_cancer.ipynb\" target=\"_parent\"><img src=\"https://colab.research.google.com/assets/colab-badge.svg\" alt=\"Open In Colab\"/></a>"
      ]
    },
    {
      "cell_type": "code",
      "source": [
        "import pandas as pd"
      ],
      "metadata": {
        "id": "HEFsTMvfDVIN"
      },
      "execution_count": null,
      "outputs": []
    },
    {
      "cell_type": "code",
      "execution_count": null,
      "metadata": {
        "id": "vX2agmHwGBEC"
      },
      "outputs": [],
      "source": [
        "!pip install kaggle\n",
        "from google.colab import files\n",
        "files.upload()  # Choose kaggle.json\n",
        "!mkdir -p ~/.kaggle\n",
        "!mv kaggle.json ~/.kaggle/\n",
        "!chmod 600 ~/.kaggle/kaggle.json\n",
        "!kaggle datasets download -d ankushpanday1/prostate-cancer-prediction-dataset\n",
        "!unzip prostate-cancer-prediction-dataset.zip\n"
      ]
    },
    {
      "cell_type": "markdown",
      "source": [],
      "metadata": {
        "id": "lClsd4bqQO7F"
      }
    },
    {
      "cell_type": "code",
      "source": [
        "\n",
        "\n",
        "df = pd.read_csv(\"prostate_cancer_prediction.csv\")  # adjust name if different\n",
        "df.head()\n"
      ],
      "metadata": {
        "id": "3kcy6mQTHErj"
      },
      "execution_count": null,
      "outputs": []
    },
    {
      "cell_type": "markdown",
      "source": [
        "###file size"
      ],
      "metadata": {
        "id": "xgOvMmrZJcV7"
      }
    },
    {
      "cell_type": "code",
      "source": [
        "import os\n",
        "\n",
        "file_path = \"prostate_cancer_prediction.csv\"\n",
        "\n",
        "# Get file size in bytes\n",
        "size_bytes = os.path.getsize(file_path)\n",
        "\n",
        "# Convert to KB, MB\n",
        "size_kb = size_bytes / 1024\n",
        "size_mb = size_kb / 1024\n",
        "\n",
        "print(f\"File size: {size_bytes} bytes\")\n",
        "print(f\"File size: {size_kb:.2f} KB\")\n",
        "print(f\"File size: {size_mb:.2f} MB\")\n"
      ],
      "metadata": {
        "id": "rfpoS5QhIbNr"
      },
      "execution_count": null,
      "outputs": []
    },
    {
      "cell_type": "markdown",
      "source": [
        "#Store and retrieve set from drive 👇"
      ],
      "metadata": {
        "id": "X5Pi8f5qJjtj"
      }
    },
    {
      "cell_type": "code",
      "source": [
        "from google.colab import drive\n",
        "drive.mount('/content/drive')\n"
      ],
      "metadata": {
        "colab": {
          "base_uri": "https://localhost:8080/"
        },
        "id": "sPtE1kjHIysl",
        "outputId": "05bc7783-1ad4-40c5-8e8e-785af285e4ea"
      },
      "execution_count": null,
      "outputs": [
        {
          "output_type": "stream",
          "name": "stdout",
          "text": [
            "Mounted at /content/drive\n"
          ]
        }
      ]
    },
    {
      "cell_type": "code",
      "source": [
        "import shutil\n",
        "\n",
        "# Source (where your dataset is currently located)\n",
        "src_path = \"prostate_cancer_prediction.csv\"\n",
        "\n",
        "# Destination (inside your Drive, adjust folder if needed)\n",
        "dst_path = \"/content/drive/MyDrive/prostate_cancer_prediction.csv\"\n",
        "\n",
        "shutil.copy(src_path, dst_path)\n",
        "print(\"File copied to Drive ✅\")\n"
      ],
      "metadata": {
        "id": "amUPTTbOIqUD"
      },
      "execution_count": null,
      "outputs": []
    },
    {
      "cell_type": "code",
      "source": [
        "file_path = \"/content/drive/MyDrive/prostate_cancer_prediction.csv\"\n",
        "df = pd.read_csv(file_path)\n",
        "df.head()\n"
      ],
      "metadata": {
        "id": "7zGoVu-2I6GT"
      },
      "execution_count": null,
      "outputs": []
    },
    {
      "cell_type": "markdown",
      "source": [
        "#Basic Exploration"
      ],
      "metadata": {
        "id": "V18Hpdk8RspF"
      }
    },
    {
      "cell_type": "markdown",
      "source": [
        "overall analysis"
      ],
      "metadata": {
        "id": "j7UTvxFnRL7F"
      }
    },
    {
      "cell_type": "code",
      "source": [
        "for col in df.columns:\n",
        "  print(f\"{col} : {df[col].value_counts()}\")"
      ],
      "metadata": {
        "id": "0bDAsZfqKS1B"
      },
      "execution_count": null,
      "outputs": []
    },
    {
      "cell_type": "markdown",
      "source": [
        "check for missing values values"
      ],
      "metadata": {
        "id": "I4HhOPB2RRal"
      }
    },
    {
      "cell_type": "code",
      "source": [
        "for col in df.columns:\n",
        "  print(f\"{col} : {df[col].isnull().sum()}\")"
      ],
      "metadata": {
        "id": "2fmvvviYQqP-"
      },
      "execution_count": null,
      "outputs": []
    },
    {
      "cell_type": "markdown",
      "source": [
        "print unique values by category\n"
      ],
      "metadata": {
        "id": "EVzLh7yKRYk2"
      }
    },
    {
      "cell_type": "code",
      "source": [
        "df['Alcohol_Consumption'].unique()\n",
        "df['Race_African_Ancestry'].unique()"
      ],
      "metadata": {
        "id": "7YhmPTxnRkYF"
      },
      "execution_count": null,
      "outputs": []
    },
    {
      "cell_type": "markdown",
      "source": [
        "#Filtering by Condition"
      ],
      "metadata": {
        "id": "jDbHFeJaSElV"
      }
    },
    {
      "cell_type": "code",
      "source": [
        "psa_accepted = df[(df['Age'] > 60) & (df['PSA_Level'] > 4)]\n",
        "psa_accepted.head()"
      ],
      "metadata": {
        "id": "6ukOrcsPSHuV"
      },
      "execution_count": null,
      "outputs": []
    },
    {
      "cell_type": "markdown",
      "source": [
        "#Grouping\n",
        "#####Group by Cancer_Stage and compute average PSA_Level and average Age."
      ],
      "metadata": {
        "id": "HzlMj7jZE5u0"
      }
    },
    {
      "cell_type": "code",
      "source": [
        "import matplotlib.pyplot as plt"
      ],
      "metadata": {
        "id": "FmpuW2D3Dkxk"
      },
      "execution_count": null,
      "outputs": []
    },
    {
      "cell_type": "code",
      "source": [
        "cancer_stage_age = df.groupby(\"Cancer_Stage\")[\"Age\"].mean()\n",
        "cancer_stage_age.plot(kind=\"bar\")\n",
        "plt.show()\n",
        "\n",
        "cancer_stage_psa = df.groupby(\"Cancer_Stage\")[\"PSA_Level\"].mean()\n",
        "cancer_stage_psa.plot(kind=\"bar\")\n",
        "plt.show()\n",
        "\n"
      ],
      "metadata": {
        "id": "o20w64zECn52"
      },
      "execution_count": null,
      "outputs": []
    },
    {
      "cell_type": "code",
      "source": [
        "stages = df['Cancer_Stage'].unique()\n",
        "for stage in stages:\n",
        "  print(f\"{stage} : {df[df['Cancer_Stage'] == stage]['Age'].mean()}\")\n",
        "\n",
        "for stage in stages:\n",
        "  print(f\"{stage} : {df[df['Cancer_Stage'] == stage]['PSA_Level'].mean()}\")\n",
        "\n"
      ],
      "metadata": {
        "id": "CQepMpTvEFML"
      },
      "execution_count": null,
      "outputs": []
    },
    {
      "cell_type": "markdown",
      "source": [
        "#Boolean Filtering\n",
        "#####Find patients who have Difficulty_Urinating AND Weak_Urine_Flow but Biopsy_Result is negative."
      ],
      "metadata": {
        "id": "4jB2wVG8Fnfk"
      }
    },
    {
      "cell_type": "code",
      "source": [
        "df['Difficulty_Urinating'].value_counts()"
      ],
      "metadata": {
        "id": "r1F2VeuCEX2C"
      },
      "execution_count": null,
      "outputs": []
    },
    {
      "cell_type": "code",
      "source": [
        "df['Weak_Urine_Flow'].value_counts()"
      ],
      "metadata": {
        "id": "UCRxErLlGuDO"
      },
      "execution_count": null,
      "outputs": []
    },
    {
      "cell_type": "code",
      "source": [
        "df[\"Biopsy_Result\"].value_counts()"
      ],
      "metadata": {
        "id": "OoczoPOCH22k"
      },
      "execution_count": null,
      "outputs": []
    },
    {
      "cell_type": "code",
      "source": [
        "false_biopsy = df[((df['Difficulty_Urinating'] == \"Yes\") & (df['Weak_Urine_Flow'] == \"Yes\") &  (df['Biopsy_Result'] == \"Benign\")) ]\n",
        "false_biopsy.head()"
      ],
      "metadata": {
        "id": "u-F7_tErG2PT"
      },
      "execution_count": null,
      "outputs": []
    },
    {
      "cell_type": "code",
      "source": [
        "false_biopsy_percentage = (false_biopsy.shape[0] / df.shape[0]) * 100\n",
        "print(f\"percentage of false biopsy is : {false_biopsy_percentage}\")"
      ],
      "metadata": {
        "id": "oaqJdv1xJFKm"
      },
      "execution_count": null,
      "outputs": []
    },
    {
      "cell_type": "markdown",
      "source": [
        "#Distribution Visualization\n",
        "#####Plot histograms of PSA_Level, BMI, and Age"
      ],
      "metadata": {
        "id": "4imEqsY0rmu_"
      }
    },
    {
      "cell_type": "code",
      "source": [
        "plt.hist(df['PSA_Level'])\n",
        "plt.show()\n",
        "plt.hist(df['BMI'])\n",
        "plt.show()\n",
        "plt.hist(df['Age'])\n",
        "plt.show()\n"
      ],
      "metadata": {
        "id": "4Qm8x0W6shF1"
      },
      "execution_count": null,
      "outputs": []
    },
    {
      "cell_type": "markdown",
      "source": [
        "#####Compare distributions between patients with and without cancer (Biopsy_Result)."
      ],
      "metadata": {
        "id": "YxBWeWZBtOUF"
      }
    },
    {
      "cell_type": "code",
      "source": [
        "plt.scatter( df['BMI'] ,df['Age'],  c=['pink' if result == \"Benign\" else 'red' for result in df['Biopsy_Result']])\n",
        "plt.show()"
      ],
      "metadata": {
        "id": "JaP1jtrWtNa2"
      },
      "execution_count": null,
      "outputs": []
    },
    {
      "cell_type": "code",
      "metadata": {
        "colab": {
          "base_uri": "https://localhost:8080/",
          "height": 472
        },
        "id": "d07b1638",
        "outputId": "017580a0-a907-4a23-ff04-6555f12c5625"
      },
      "source": [
        "# Sample a smaller subset of the data\n",
        "df_sampled = df.sample(n=100, random_state=42) # Sample 1000 rows, use random_state for reproducibility\n",
        "\n",
        "plt.scatter( df_sampled['BMI'],df_sampled['Age'], c=['pink' if result == \"Benign\" else 'red' for result in df_sampled['Biopsy_Result']])\n",
        "plt.title('BMI vs Age by Biopsy Result (Sampled Data)')\n",
        "plt.xlabel('Age')\n",
        "plt.ylabel('BMI')\n",
        "plt.show()"
      ],
      "execution_count": null,
      "outputs": [
        {
          "output_type": "display_data",
          "data": {
            "text/plain": [
              "<Figure size 640x480 with 1 Axes>"
            ],
            "image/png": "[encoded data removed]"
          },
          "metadata": {}
        }
      ]
    },
    {
      "cell_type": "code",
      "source": [
        "# Sample a smaller subset of the data\n",
        "df_sampled = df.sample(n=200, random_state=42) # Sample 1000 rows, use random_state for reproducibility\n",
        "\n",
        "# Create the scatter plot with the sampled data\n",
        "plt.scatter( df_sampled['Cancer_Stage'],df_sampled['Age'], c=['pink' if result == \"Benign\" else 'red' for result in df_sampled['Biopsy_Result']])\n",
        "plt.title('BMI vs Age by Biopsy Result (Sampled Data)')\n",
        "plt.xlabel('BMI')\n",
        "plt.ylabel('Age')\n",
        "plt.show()"
      ],
      "metadata": {
        "colab": {
          "base_uri": "https://localhost:8080/",
          "height": 472
        },
        "id": "n89XYbHS14TB",
        "outputId": "eb583077-79d3-4487-beba-53acac228e3e"
      },
      "execution_count": null,
      "outputs": [
        {
          "output_type": "display_data",
          "data": {
            "text/plain": [
              "<Figure size 640x480 with 1 Axes>"
            ],
            "image/png": "[encoded data removed]"
          },
          "metadata": {}
        }
      ]
    },
    {
      "cell_type": "code",
      "source": [
        "# Sample a smaller subset of the data\n",
        "df_sampled = df.sample(n=150, random_state=42) # Sample 1000 rows, use random_state for reproducibility\n",
        "plt.scatter( df_sampled['Biopsy_Result'],df_sampled['BMI'])\n",
        "plt.title('Biopsy_Result vs Age by Biopsy Result (Sampled Data)')\n",
        "plt.xlabel('Biopsy_Result')\n",
        "plt.ylabel('Age')\n",
        "plt.show()"
      ],
      "metadata": {
        "colab": {
          "base_uri": "https://localhost:8080/",
          "height": 472
        },
        "id": "nrRVSbUj2SCA",
        "outputId": "b4f7693b-0e4f-4968-e96d-113c62147032"
      },
      "execution_count": null,
      "outputs": [
        {
          "output_type": "display_data",
          "data": {
            "text/plain": [
              "<Figure size 640x480 with 1 Axes>"
            ],
            "image/png": "[encoded data removed]"
          },
          "metadata": {}
        }
      ]
    },
    {
      "cell_type": "code",
      "metadata": {
        "id": "3b08e22e"
      },
      "source": [
        "plt.hist2d(df['Biopsy_Result'],df['BMI'], bins=30, cmap='Blues')\n",
        "plt.colorbar(label='Density')\n",
        "plt.title('Density Plot of Age vs BMI')\n",
        "plt.xlabel('Age')\n",
        "plt.ylabel('BMI')\n",
        "plt.show()"
      ],
      "execution_count": null,
      "outputs": []
    },
    {
      "cell_type": "markdown",
      "metadata": {
        "id": "6587d490"
      },
      "source": [
        "# Task\n",
        "Create a 2D density plot using the 'Biopsy_Result' and 'BMI' columns from the file \"biopsy_and_bmi.csv\". Encode the 'Biopsy_Result' column numerically. The color of the density plot should be pale blue for areas with few points and darker blue for areas with more points."
      ]
    },
    {
      "cell_type": "markdown",
      "metadata": {
        "id": "7d4b5e65"
      },
      "source": [
        "## Encode categorical data\n",
        "\n",
        "### Subtask:\n",
        "Convert the 'Biopsy_Result' column into numerical values.\n"
      ]
    },
    {
      "cell_type": "markdown",
      "metadata": {
        "id": "4a605fd5"
      },
      "source": [
        "**Reasoning**:\n",
        "Map the 'Biopsy_Result' column to numerical values for plotting.\n",
        "\n"
      ]
    },
    {
      "cell_type": "code",
      "metadata": {
        "id": "fa9ee67a"
      },
      "source": [
        "biopsy_mapping = {'Benign': 0, 'Malignant': 1}\n",
        "df['Biopsy_Result_Encoded'] = df['Biopsy_Result'].map(biopsy_mapping)\n",
        "df.head()"
      ],
      "execution_count": null,
      "outputs": []
    },
    {
      "cell_type": "markdown",
      "metadata": {
        "id": "fc259829"
      },
      "source": [
        "## Create density plot\n",
        "\n",
        "### Subtask:\n",
        "Generate a 2D histogram using the encoded 'Biopsy_Result' and 'BMI' columns.\n"
      ]
    },
    {
      "cell_type": "code",
      "source": [
        "plt.hist2d(df['Biopsy_Result_Encoded'], df['BMI'], bins=30, cmap='Blues')\n",
        "plt.colorbar(label='Density')\n",
        "plt.title('Density Plot of Biopsy Result (Encoded) vs BMI')\n",
        "plt.xlabel('Biopsy Result (Encoded)')\n",
        "plt.ylabel('BMI')\n",
        "plt.show()"
      ],
      "metadata": {
        "id": "r-8k1y4-5vGB"
      },
      "execution_count": null,
      "outputs": []
    },
    {
      "cell_type": "markdown",
      "source": [
        "#crosstab & heatmap\n",
        "#####Create a crosstab between Race_African_Ancestry and Biopsy_Result"
      ],
      "metadata": {
        "id": "2ByNmd-UNqBk"
      }
    },
    {
      "cell_type": "code",
      "source": [
        "crosstab_result = pd.crosstab(df['Race_African_Ancestry'],df['Biopsy_Result'])\n",
        "print(crosstab_result)"
      ],
      "metadata": {
        "id": "YC5p2TPeM_ks"
      },
      "execution_count": null,
      "outputs": []
    },
    {
      "cell_type": "markdown",
      "source": [
        "#####heatmap with seaborn"
      ],
      "metadata": {
        "id": "6F2mi8gNO8ws"
      }
    },
    {
      "cell_type": "code",
      "source": [
        "import seaborn as sns"
      ],
      "metadata": {
        "id": "r1WFp5dcOhe9"
      },
      "execution_count": null,
      "outputs": []
    },
    {
      "cell_type": "code",
      "source": [
        "sns.heatmap(crosstab_result)"
      ],
      "metadata": {
        "id": "4nmEAbs4OPO8"
      },
      "execution_count": null,
      "outputs": []
    },
    {
      "cell_type": "markdown",
      "source": [
        "#Boxplots by Stage\n",
        "#####Draw a boxplot of PSA_Level grouped by Cancer_Stage."
      ],
      "metadata": {
        "id": "U2vBxpo4Pe3s"
      }
    },
    {
      "cell_type": "code",
      "source": [
        "sns.boxplot(x='Cancer_Stage',y='PSA_Level',data=df)\n"
      ],
      "metadata": {
        "id": "9UpyTIiOPkRk"
      },
      "execution_count": null,
      "outputs": []
    },
    {
      "cell_type": "markdown",
      "source": [
        "#Lifestyle & Risk Comparison\n"
      ],
      "metadata": {
        "id": "ZZJP4cv9Qsg0"
      }
    },
    {
      "cell_type": "markdown",
      "source": [
        "#####3D Scatter Plot of Age, BMI, and PSA_Level"
      ],
      "metadata": {
        "id": "Ueu_y50gQ5-r"
      }
    },
    {
      "cell_type": "code",
      "source": [
        "from mpl_toolkits.mplot3d import Axes3D\n",
        "\n",
        "fig = plt.figure(figsize=(10, 8))\n",
        "ax = fig.add_subplot(111, projection='3d')\n",
        "\n",
        "stage_mapping = {'Localized':0,'Metastatic': 1, 'Advanced': 2}\n",
        "df['Cancer_Stage_Encoded'] = df['Cancer_Stage'].map(stage_mapping)\n",
        "\n",
        "scatter = ax.scatter(df['Age'], df['BMI'], df['PSA_Level'], c=df['Cancer_Stage_Encoded'], cmap='viridis', s=20)\n",
        "\n",
        "ax.set_xlabel('Age')\n",
        "ax.set_ylabel('BMI')\n",
        "ax.set_zlabel('PSA_Level')\n",
        "ax.set_title('3D Scatter Plot of Age, BMI, and PSA_Level by Cancer Stage')\n",
        "\n",
        "cbar = fig.colorbar(scatter,ax=ax,pad=0.1)\n",
        "cbar.set_label(\"cancer stage\")\n",
        "cbar.set_ticks([0,1,2])\n",
        "cbar.set_ticklabels(['Localized','Metastatic','Advanced'])\n",
        "\n",
        "plt.show()"
      ],
      "metadata": {
        "id": "d5HyhlvRrcY8"
      },
      "execution_count": null,
      "outputs": []
    },
    {
      "cell_type": "markdown",
      "source": [
        "#####Plot bar charts showing the proportion of patients with Smoking_History = Yes across different Cancer_Stage"
      ],
      "metadata": {
        "id": "bUa9KCpmQ33C"
      }
    },
    {
      "cell_type": "code",
      "source": [
        "cancer_stage_smokers = df.groupby(\"Cancer_Stage\")[\"Smoking_History\"].value_counts().unstack(fill_value=0)\n",
        "cancer_stage_smokers_percentage = cancer_stage_smokers['Yes'] / cancer_stage_smokers.sum(axis=1) *100\n",
        "cancer_stage_smokers_percentage.plot(kind=\"bar\")\n",
        "plt.title('Percentage of Smokers by Cancer Stage')\n",
        "plt.xlabel('Cancer Stage')\n",
        "plt.ylabel('Percentage of Smokers')\n",
        "plt.show()"
      ],
      "metadata": {
        "id": "ltW0JSw2vN3V"
      },
      "execution_count": null,
      "outputs": []
    }
  ]
}